{
 "cells": [
  {
   "cell_type": "markdown",
   "metadata": {},
   "source": [
    "## Лекция 6 Sort Algorithms"
   ]
  },
  {
   "cell_type": "markdown",
   "metadata": {},
   "source": [
    "-----------------"
   ]
  },
  {
   "cell_type": "markdown",
   "metadata": {},
   "source": [
    "## Лекция 7 Recursion"
   ]
  },
  {
   "cell_type": "code",
   "execution_count": 1,
   "metadata": {},
   "outputs": [],
   "source": [
    "import graphics as gr\n",
    "\n",
    "window = gr.GraphWin(\"Russian game\", 600, 600)\n",
    "alpha = 0.05\n",
    "\n",
    "def fractal_rectangle(A, B, C, D, deep=20):\n",
    "    \"\"\" draw a fractal rectangle \"\"\"\n",
    "    if deep < 1:\n",
    "        return\n",
    "    for M,N in (A,B), (B,C), (C,D), (D,A):\n",
    "        gr.Line(gr.Point(*M), gr.Point(*N)).draw(window)\n",
    "    A1 = (A[0]*(1-alpha) + B[0]*alpha, A[1]*(1-alpha) + B[1]*alpha)\n",
    "    B1 = (B[0]*(1-alpha) + C[0]*alpha, B[1]*(1-alpha) + C[1]*alpha)\n",
    "    C1 = (C[0]*(1-alpha) + D[0]*alpha, C[1]*(1-alpha) + D[1]*alpha)\n",
    "    D1 = (D[0]*(1-alpha) + A[0]*alpha, D[1]*(1-alpha) + A[1]*alpha)\n",
    "    fractal_rectangle(A1, B1, C1, D1, deep-1)\n",
    "\n",
    "fractal_rectangle((100,100),(500,100),(500,500),(100,500), 100)"
   ]
  },
  {
   "cell_type": "code",
   "execution_count": 25,
   "metadata": {},
   "outputs": [
    {
     "data": {
      "text/plain": [
       "3628800"
      ]
     },
     "execution_count": 25,
     "metadata": {},
     "output_type": "execute_result"
    }
   ],
   "source": [
    "def f(n:int):\n",
    "    \"\"\" Factorial of an integer number \"\"\"\n",
    "    assert n >= 0, \"Factorial of negative numbers is not defined\"\n",
    "    if n == 0:\n",
    "        return 1\n",
    "    else:\n",
    "        return n*f(n-1)\n",
    "f(10)"
   ]
  },
  {
   "cell_type": "code",
   "execution_count": 41,
   "metadata": {},
   "outputs": [
    {
     "data": {
      "text/plain": [
       "4"
      ]
     },
     "execution_count": 41,
     "metadata": {},
     "output_type": "execute_result"
    }
   ],
   "source": [
    "def gcd(a,b):\n",
    "    \"\"\" Greater Common Ddeviser\"\"\"\n",
    "    if a==b:\n",
    "        return a\n",
    "    elif a > b:\n",
    "        return gcd(a-b,b)\n",
    "    else:\n",
    "        return gcd(a,b-a)\n",
    "    \n",
    "def gcd_opt(a,b):\n",
    "    \"\"\" Greater Common Ddeviser\"\"\"\n",
    "    if b==0:\n",
    "        return a\n",
    "    else:\n",
    "        return gcd_opt(b,a%b)\n",
    "    \n",
    "def gcd_3(a,b):\n",
    "    \"\"\" Greater Common Ddeviser\"\"\"\n",
    "    return a if b==0 else gcd_3(b,a%b)\n",
    "    \n",
    "    \n",
    "gcd(12,160)\n",
    "gcd_opt(12,160)\n",
    "gcd_3(8,20)"
   ]
  },
  {
   "cell_type": "markdown",
   "metadata": {},
   "source": [
    "-----------"
   ]
  },
  {
   "cell_type": "markdown",
   "metadata": {},
   "source": [
    "## Лекция 8 Recursion 2"
   ]
  },
  {
   "cell_type": "code",
   "execution_count": 108,
   "metadata": {},
   "outputs": [],
   "source": [
    "def generate_numbers(N:int, M:int, prefix=None, is_permutation=False):\n",
    "    \"\"\" Generate all combinations of length M with N natural numbers \"\"\"\n",
    "    prefix = prefix or []\n",
    "    if M==0:\n",
    "        print(*prefix, end=\", \", sep=\"\")\n",
    "        return\n",
    "    for digit in range(N):\n",
    "        if is_permutation and find(digit, prefix):\n",
    "            continue\n",
    "        prefix.append(digit)\n",
    "        generate_numbers(N,M-1,prefix, is_permutation=is_permutation)\n",
    "        prefix.pop()\n",
    "\n",
    "def find(number, A):\n",
    "    \"\"\" Return True if A contains number, else False\n",
    "    \"\"\"\n",
    "    for x in A:\n",
    "        if x==number:\n",
    "            return True\n",
    "    return False"
   ]
  },
  {
   "cell_type": "code",
   "execution_count": 110,
   "metadata": {},
   "outputs": [
    {
     "name": "stdout",
     "output_type": "stream",
     "text": [
      "012, 021, 102, 120, 201, 210, "
     ]
    }
   ],
   "source": [
    "generate_numbers(3,3, is_permutation=True)"
   ]
  },
  {
   "cell_type": "code",
   "execution_count": 72,
   "metadata": {},
   "outputs": [],
   "source": [
    "def gen_bin(N,prefix=\"\"):\n",
    "    if N==0:\n",
    "        print(prefix)\n",
    "        return\n",
    "    for i in \"0\", \"1\":\n",
    "        gen_bin(N-1,prefix+i)"
   ]
  },
  {
   "cell_type": "code",
   "execution_count": 73,
   "metadata": {},
   "outputs": [
    {
     "name": "stdout",
     "output_type": "stream",
     "text": [
      "000\n",
      "001\n",
      "010\n",
      "011\n",
      "100\n",
      "101\n",
      "110\n",
      "111\n"
     ]
    }
   ],
   "source": [
    "gen_bin(3)"
   ]
  },
  {
   "cell_type": "code",
   "execution_count": 18,
   "metadata": {},
   "outputs": [
    {
     "name": "stdout",
     "output_type": "stream",
     "text": [
      "[11, 2, 1, 2, 22, 6, 9, 10]\n"
     ]
    },
    {
     "data": {
      "text/plain": [
       "[1, 2, 1, 2, 3, 6, 9, 10]"
      ]
     },
     "execution_count": 18,
     "metadata": {},
     "output_type": "execute_result"
    }
   ],
   "source": [
    "a = [1,2,1,2,3,6,9,10]\n",
    "def f(a):\n",
    "    N = len(a)\n",
    "    c = [a[i] for i in range(N//2)]\n",
    "    b = [a[i] for i in range(N//2, N)]\n",
    "    c[0] = 11\n",
    "    b[0] = 22\n",
    "    d = c + b\n",
    "    print(d)\n",
    "    a[:] = d\n",
    "f(a)\n",
    "a"
   ]
  },
  {
   "cell_type": "markdown",
   "metadata": {},
   "source": [
    "-----"
   ]
  },
  {
   "cell_type": "markdown",
   "metadata": {},
   "source": [
    "## Лекция 9 Quick Sort and Merge Sort"
   ]
  },
  {
   "cell_type": "code",
   "execution_count": 58,
   "metadata": {},
   "outputs": [
    {
     "data": {
      "text/plain": [
       "[0, 1, 1, 2, 4, 4, 6, 7, 11, 12]"
      ]
     },
     "execution_count": 58,
     "metadata": {},
     "output_type": "execute_result"
    }
   ],
   "source": [
    "def quicksort(A:list):\n",
    "    \"\"\" Sort of a list developed by Tony Hoare \"\"\"\n",
    "    if len(A) <= 1:\n",
    "        return\n",
    "    barrier = A[1]\n",
    "    L, M, R = [], [], []\n",
    "    for i in range(len(A)):\n",
    "        if A[i] < barrier:\n",
    "            L.append(A[i])\n",
    "        elif A[i] == barrier:\n",
    "            M.append(A[i])\n",
    "        else:\n",
    "            R.append(A[i])\n",
    "    quicksort(L)\n",
    "    quicksort(R)\n",
    "    A[:] = L + M + R\n",
    "    \n",
    "A = [1,4,2,4,6,1,11,0,12,7]\n",
    "quicksort(A)\n",
    "A"
   ]
  },
  {
   "cell_type": "code",
   "execution_count": 60,
   "metadata": {},
   "outputs": [
    {
     "data": {
      "text/plain": [
       "[0, 1, 1, 2, 4, 4, 6, 7, 11, 12]"
      ]
     },
     "execution_count": 60,
     "metadata": {},
     "output_type": "execute_result"
    }
   ],
   "source": [
    "def merge(A:list, B:list):\n",
    "    C = [0] * (len(A) + len(B))\n",
    "    i = j = k = 0\n",
    "    while i < len(A) and j < len(B):\n",
    "        if A[i] <= B[j]:\n",
    "            C[k] = A[i]; i+=1; k+=1\n",
    "        else:\n",
    "            C[k] = B[j]; j+=1; k+=1\n",
    "    while i < len(A):\n",
    "        C[k] = A[i]; i+=1; k+=1\n",
    "    while j < len(B):\n",
    "        C[k] = B[j]; j+=1; k+=1\n",
    "    return C\n",
    "    \n",
    "def mergesort(A):\n",
    "    \"\"\" Sort of a list by merging \"\"\"\n",
    "    N = len(A)\n",
    "    if N <= 1:\n",
    "        return\n",
    "    middle = N//2\n",
    "    L = [A[i] for i in range(middle)]\n",
    "    R = [A[i] for i in range(middle,N)]\n",
    "    mergesort(L)\n",
    "    mergesort(R)\n",
    "    A[:] = merge(L,R)\n",
    "    \n",
    "A = [1,4,2,4,6,1,11,0,12,7]\n",
    "mergesort(A)\n",
    "A"
   ]
  },
  {
   "cell_type": "markdown",
   "metadata": {},
   "source": [
    "-----"
   ]
  },
  {
   "cell_type": "markdown",
   "metadata": {},
   "source": [
    "## Лекция 10 Dynamic Programming"
   ]
  },
  {
   "cell_type": "code",
   "execution_count": 5,
   "metadata": {},
   "outputs": [
    {
     "data": {
      "text/plain": [
       "0"
      ]
     },
     "execution_count": 5,
     "metadata": {},
     "output_type": "execute_result"
    }
   ],
   "source": [
    "def left_bound(A, key):\n",
    "    \"\"\" Search for key element in sorted list A \"\"\"\n",
    "    left = -1\n",
    "    right = len(A)\n",
    "    while right - left > 1:\n",
    "        middle = (right + left)//2\n",
    "        if A[middle] < key:\n",
    "            left = middle\n",
    "        else:\n",
    "            right = middle\n",
    "    return left\n",
    "            \n",
    "left_bound([1,3,4,5, 10, 16], 3)"
   ]
  },
  {
   "cell_type": "code",
   "execution_count": 6,
   "metadata": {},
   "outputs": [
    {
     "data": {
      "text/plain": [
       "2"
      ]
     },
     "execution_count": 6,
     "metadata": {},
     "output_type": "execute_result"
    }
   ],
   "source": [
    "def right_bound(A, key):\n",
    "    \"\"\" Search for key element in sorted list A \"\"\"\n",
    "    left = -1\n",
    "    right = len(A)\n",
    "    while right - left > 1:\n",
    "        middle = (right + left)//2\n",
    "        if A[middle] <= key:\n",
    "            left = middle\n",
    "        else:\n",
    "            right = middle\n",
    "    return right\n",
    "            \n",
    "right_bound([1,3,4,5, 10, 16], 3)"
   ]
  },
  {
   "cell_type": "code",
   "execution_count": 18,
   "metadata": {},
   "outputs": [
    {
     "data": {
      "text/plain": [
       "6765"
      ]
     },
     "execution_count": 18,
     "metadata": {},
     "output_type": "execute_result"
    }
   ],
   "source": [
    "def fib(n):\n",
    "    \"\"\" n fibonacci number F_n, complexity as O(F_n) \"\"\"\n",
    "    if n <= 1:\n",
    "        return n\n",
    "    return fib(n-1) + fib(n-2)\n",
    "\n",
    "fib(20)"
   ]
  },
  {
   "cell_type": "code",
   "execution_count": 20,
   "metadata": {},
   "outputs": [
    {
     "data": {
      "text/plain": [
       "6765"
      ]
     },
     "execution_count": 20,
     "metadata": {},
     "output_type": "execute_result"
    }
   ],
   "source": [
    "# example of dynamic programming\n",
    "def fib_opt(n):\n",
    "    \"\"\" n fibonacci number \"\"\"\n",
    "    fib = [0,1] + [0]*(n-1)\n",
    "    for i in range(2,n+1):\n",
    "        fib[i] = fib[i-1] + fib[i-2]\n",
    "    return fib[n]\n",
    "\n",
    "fib_opt(20)"
   ]
  },
  {
   "cell_type": "code",
   "execution_count": 42,
   "metadata": {},
   "outputs": [
    {
     "data": {
      "text/plain": [
       "2"
      ]
     },
     "execution_count": 42,
     "metadata": {},
     "output_type": "execute_result"
    }
   ],
   "source": [
    "def count_trajectories(n, allowed:list): \n",
    "    \"\"\" \n",
    "    What is the number of trajectories to get from 1 to n while doing 1-size or 2-size steps?\n",
    "    K_n = K_{n-1} + K_{n-2}\n",
    "    \"\"\"\n",
    "    K = [0, 1, int(allowed[2])] + [0]*(n-2)\n",
    "    for i in range(3,n+1):\n",
    "        if allowed[i]:\n",
    "            K[i] = K[i-1] + K[i-2] + K[i-3]\n",
    "    return K[n]\n",
    "\n",
    "n = 4\n",
    "count_trajectories(n, [True]*(n+1))\n",
    "\n",
    "count_trajectories(4, [True, True, True, False, True])"
   ]
  },
  {
   "cell_type": "code",
   "execution_count": null,
   "metadata": {},
   "outputs": [],
   "source": [
    "def count_min_cost(N, price:list):\n",
    "    \"\"\" What is the min cost to get from 1 to N if each point has a price? \"\"\"\n",
    "    C = [float(\"inf\"), price[1], price[1]+price[2]] + [0]*(N-2)\n",
    "    for i in range(3,N+1):\n",
    "        C[i] = price[i] + min(C[i-1],C[i-2])\n",
    "    return C[N]"
   ]
  },
  {
   "cell_type": "code",
   "execution_count": 57,
   "metadata": {},
   "outputs": [
    {
     "data": {
      "text/plain": [
       "(True, True, True, False)"
      ]
     },
     "execution_count": 57,
     "metadata": {},
     "output_type": "execute_result"
    }
   ],
   "source": [
    "A = [[0]*5]*4\n",
    "B = [[0]*5 for i in range(4)]\n",
    "A[0] == A[1], A[0] is A[1], B[0] == B[1], B[0] is B[1]"
   ]
  },
  {
   "cell_type": "markdown",
   "metadata": {},
   "source": [
    "------------"
   ]
  },
  {
   "cell_type": "markdown",
   "metadata": {},
   "source": [
    "## Practical Work"
   ]
  },
  {
   "cell_type": "code",
   "execution_count": 97,
   "metadata": {
    "scrolled": true
   },
   "outputs": [
    {
     "name": "stdout",
     "output_type": "stream",
     "text": [
      "find_prefix('sefsdfsdsjs23sdtgh0fg', 'sd')\n",
      "[3, 6, 13]\n",
      "OK\n"
     ]
    }
   ],
   "source": [
    "def find_prefix(t:str, s:str, s_initial:str=None, index:int=0):\n",
    "    \"\"\" \n",
    "    Find all indices of line s in text t\n",
    "    Return -1 if t does not contain s\n",
    "    \"\"\"\n",
    "    if s_initial is None:\n",
    "        s_initial = s\n",
    "        \n",
    "    if len(s)==0:\n",
    "        if len(t) < len(s_initial):\n",
    "            return index\n",
    "        else:\n",
    "            index = index + [index[-1]+len(s_initial)] if type(index) is list else [index] + [index+len(s_initial)]\n",
    "            return find_prefix(t, s_initial, s_initial, index)\n",
    "    \n",
    "    if len(t) < len(s):\n",
    "        if type(index) is list:\n",
    "            index.pop()\n",
    "            return index\n",
    "        else:\n",
    "            return -1\n",
    "    \n",
    "    if s[0]==t[0]: # first element found\n",
    "        return find_prefix(t[1:], s[1:], s_initial, index)\n",
    "    else:\n",
    "        if type(index) is list:\n",
    "            index[-1] += 1\n",
    "        else:\n",
    "            index += 1\n",
    "        return find_prefix(t[1:], s, s_initial, index)\n",
    "\n",
    "def test_find_prefix():\n",
    "    \"\"\" test find_prefix function \"\"\"\n",
    "    res = find_prefix('sefsdfsdsjs23sdtgh0fg', 'sd')\n",
    "    print(\"find_prefix('sefsdfsdsjs23sdtgh0fg', 'sd')\")\n",
    "    print(res)\n",
    "    if res == [3, 6, 13]:\n",
    "        print(\"OK\")\n",
    "    else:\n",
    "        print(\"Failed\")\n",
    "\n",
    "test_find_prefix()"
   ]
  },
  {
   "cell_type": "code",
   "execution_count": 150,
   "metadata": {},
   "outputs": [
    {
     "data": {
      "text/plain": [
       "(12, 3)"
      ]
     },
     "execution_count": 150,
     "metadata": {},
     "output_type": "execute_result"
    }
   ],
   "source": [
    "def max_sublist(A:list):\n",
    "    \"\"\" Find a sublist with max sum in list of integers A\"\"\"\n",
    "    if len(A) == 0:\n",
    "        return 0\n",
    "    global_max = A[0]\n",
    "    left = 0\n",
    "    right = 1\n",
    "    while right < len(A):\n",
    "        local_max = sum(A[left:right])\n",
    "        if (local_max >= global_max):\n",
    "            global_max = local_max\n",
    "        if local_max < 0:\n",
    "            left = right\n",
    "        right += 1\n",
    "    return global_max\n",
    "    \n",
    "A = [5,-10,3,9,0,-1,1] # 12\n",
    "B = [2,-1,2,0,-2]      # 3\n",
    "max_sublist(A), max_sublist(B)"
   ]
  },
  {
   "cell_type": "markdown",
   "metadata": {},
   "source": [
    "-----------------"
   ]
  },
  {
   "cell_type": "markdown",
   "metadata": {},
   "source": [
    "## Лекция 11 2D Dynamic Programing"
   ]
  },
  {
   "cell_type": "code",
   "execution_count": 175,
   "metadata": {},
   "outputs": [
    {
     "data": {
      "text/plain": [
       "8"
      ]
     },
     "execution_count": 175,
     "metadata": {},
     "output_type": "execute_result"
    }
   ],
   "source": [
    "def lcs(A:list, B:list):\n",
    "    \"\"\" Get length of the longest common subsequences\"\"\"\n",
    "    F = [[0]*(len(B)+1) for i in range(len(A)+1)]\n",
    "    for i in range(1,len(A)+1):\n",
    "        for j in range(1,len(B)+1):\n",
    "            if A[i-1] == B[j-1]:\n",
    "                F[i][j] = 1 + F[i-1][j-1]\n",
    "            else:\n",
    "                F[i][j] = max(F[i-1][j], F[i][j-1])\n",
    "    return F[-1][-1]\n",
    "\n",
    "lcs(range(16), [2,3,4, 1, 11,12,13,14,15])"
   ]
  },
  {
   "cell_type": "code",
   "execution_count": 181,
   "metadata": {},
   "outputs": [
    {
     "data": {
      "text/plain": [
       "(10, 8)"
      ]
     },
     "execution_count": 181,
     "metadata": {},
     "output_type": "execute_result"
    }
   ],
   "source": [
    "def gis(A:list):\n",
    "    \"\"\" Find the greatest increasing subsequence \"\"\"\n",
    "    F = [0]*(len(A)+1)\n",
    "    for i in range(1, len(A)+1):\n",
    "        m = 0\n",
    "        for j in range(1,i):\n",
    "            if A[i-1] > A[j-1] and F[j] > m:\n",
    "                m = F[j]\n",
    "            F[i] = m + 1\n",
    "    return F[len(A)]\n",
    "\n",
    "A = [3, 2,3,4, 1, 11,12,13,14,15]\n",
    "len(A), gis(A)"
   ]
  },
  {
   "cell_type": "markdown",
   "metadata": {},
   "source": [
    "----------------------"
   ]
  },
  {
   "cell_type": "markdown",
   "metadata": {},
   "source": [
    "## Лекция 12 Line equivalence or String Distance Measure"
   ]
  },
  {
   "cell_type": "code",
   "execution_count": 191,
   "metadata": {},
   "outputs": [
    {
     "data": {
      "text/plain": [
       "2"
      ]
     },
     "execution_count": 191,
     "metadata": {},
     "output_type": "execute_result"
    }
   ],
   "source": [
    "def levenshtein(A, B):\n",
    "    \"\"\" Find the distance between two strings \"\"\"\n",
    "    F = [[i+j if i*j==0 else 0 for j in range(len(B)+1)] for i in range(len(A)+1)]\n",
    "    for i in range(1,len(A)+1):\n",
    "        for j in range(1,len(B)+1):\n",
    "            if A[i-1] == B[j-1]:\n",
    "                F[i][j] = F[i-1][j-1]\n",
    "            else:\n",
    "                F[i][j] = 1 + min(F[i-1][j], F[i][j-1], F[i-1][j-1])\n",
    "    return F[-1][-1]\n",
    "\n",
    "levenshtein(\"молоко\", \"колокол\")"
   ]
  },
  {
   "cell_type": "code",
   "execution_count": 202,
   "metadata": {},
   "outputs": [
    {
     "data": {
      "text/plain": [
       "True"
      ]
     },
     "execution_count": 202,
     "metadata": {},
     "output_type": "execute_result"
    }
   ],
   "source": [
    "def equal(A,B):\n",
    "    \"\"\" Test if A and are equal \"\"\"\n",
    "    if len(A) != len(B):\n",
    "        return False\n",
    "    for i in range(len(A)):\n",
    "        if A[i] != B[i]:\n",
    "            return False\n",
    "    return True\n",
    "\n",
    "equal(\"rhinoceros\", \"rhinoceros\")"
   ]
  }
 ],
 "metadata": {
  "kernelspec": {
   "display_name": "Python 3",
   "language": "python",
   "name": "python3"
  },
  "language_info": {
   "codemirror_mode": {
    "name": "ipython",
    "version": 3
   },
   "file_extension": ".py",
   "mimetype": "text/x-python",
   "name": "python",
   "nbconvert_exporter": "python",
   "pygments_lexer": "ipython3",
   "version": "3.6.4"
  }
 },
 "nbformat": 4,
 "nbformat_minor": 2
}
